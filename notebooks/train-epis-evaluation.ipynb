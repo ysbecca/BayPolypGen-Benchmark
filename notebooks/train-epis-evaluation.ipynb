{
 "cells": [
  {
   "cell_type": "code",
   "execution_count": 38,
   "id": "283826c5",
   "metadata": {},
   "outputs": [],
   "source": [
    "import numpy as np\n",
    "import sys\n",
    "import os\n",
    "import cv2\n",
    "import matplotlib.pyplot as plt\n",
    "from PIL import Image\n",
    "import skimage\n",
    "\n",
    "sys.path.append(os.path.abspath('../'))\n",
    "from utils import ext_transforms as et\n",
    "\n",
    "from datasets import VOCSegmentation_polypGen2021 as polyGenSeg"
   ]
  },
  {
   "cell_type": "code",
   "execution_count": 27,
   "id": "bb858dae",
   "metadata": {},
   "outputs": [],
   "source": [
    "# train_transform = et.ExtCompose([\n",
    "# #              et.ExtRandomScale((0.5, 2.0)),\n",
    "# #             et.ExtRandomCrop(size=(512, 512), pad_if_needed=True),\n",
    "# #             et.ExtRandomHorizontalFlip(),\n",
    "#         ])\n",
    "\n",
    "# train_dst = polyGenSeg(\n",
    "#         root=f\"/Users/ysbecca/ysbecca-projects/BayPolypGen-Benchmark/datasets/EndoCV2021/trainData_polypGen/\",\n",
    "#         image_set='train_polypGen',\n",
    "#         download=False,\n",
    "#         transform=None,\n",
    "#         epi_dims=None,\n",
    "#         indices=False,\n",
    "#     )"
   ]
  },
  {
   "cell_type": "code",
   "execution_count": 102,
   "id": "afe5ff16",
   "metadata": {},
   "outputs": [],
   "source": [
    "def detect_imgs(infolder, imgslist=[], ext='.jpg'):\n",
    "    import os\n",
    "\n",
    "    if len(imgslist):\n",
    "        flist = [im.split(\"/\")[-1].split(\".\")[0] + \"_mask.jpg\" for im in imgslist]\n",
    "        return np.array([os.path.join(infolder, f) for f in flist])\n",
    "        \n",
    "    else:\n",
    "        items = os.listdir(infolder)\n",
    "        flist = []\n",
    "        for names in items:\n",
    "            if names.endswith(ext) or names.endswith(ext.upper()):\n",
    "                flist.append(os.path.join(infolder, names))\n",
    "\n",
    "        return np.sort(flist)\n",
    "\n",
    "TEST_SETS = \"D4\"\n",
    "\n",
    "for TEST_SET in [\"C6\", \"D3\"]:\n",
    "dirs = {\n",
    "    \"C6\": [\n",
    "        \"/Users/ysbecca/ysbecca-projects/BayPolypGen-Benchmark/datasets/EndoCV2021/data_C6/images_C6/\",\n",
    "        \"/Users/ysbecca/ysbecca-projects/BayPolypGen-Benchmark/datasets/EndoCV2021/data_C6/masks_C6/\",\n",
    "        \"/Users/ysbecca/ysbecca-projects/BayPolypGen-Benchmark/predictions/images_C6_predictions/splendid-yogurt-28/\",\n",
    "    ],\n",
    "    \"D3\": [\n",
    "        \"/Users/ysbecca/ysbecca-projects/BayPolypGen-Benchmark/datasets/endocv2021-test-noCopyAllowed-v3_confidential/EndoCV_DATA3/\",\n",
    "        \"/Users/ysbecca/ysbecca-projects/BayPolypGen-Benchmark/datasets/endocv2021-test-noCopyAllowed-v3_confidential/segmentation/EndoCV_DATA3_GT/\",\n",
    "        \"/Users/ysbecca/ysbecca-projects/BayPolypGen-Benchmark/predictions/images_EndoCV_DATA3/\",\n",
    "    ],\n",
    "    \"D4\": [\n",
    "        \"/Users/ysbecca/ysbecca-projects/BayPolypGen-Benchmark/datasets/endocv2021-test-noCopyAllowed-v3_confidential/EndoCV_DATA4/\",\n",
    "        \"/Users/ysbecca/ysbecca-projects/BayPolypGen-Benchmark/datasets/endocv2021-test-noCopyAllowed-v3_confidential/segmentation/EndoCV_DATA4_GT\",\n",
    "        \"/Users/ysbecca/ysbecca-projects/BayPolypGen-Benchmark/predictions/images_EndoCV_DATA4/\",\n",
    "    ]\n",
    "}\n",
    "\n",
    "imagelist = detect_imgs(dirs[TEST_SET][0])\n",
    "\n",
    "if TEST_SET != \"C6\":\n",
    "    gtlist = detect_imgs(dirs[TEST_SET][1], imgslist=imagelist)\n",
    "else:\n",
    "    gtlist = detect_imgs(dirs[TEST_SET][1])\n",
    "predlist = detect_imgs(dirs[TEST_SET][2])\n",
    "\n",
    "print(len(imagelist), len(gtlist), len(predlist))\n",
    "\n",
    "moment_path = \"/Users/ysbecca/ysbecca-projects/BayPolypGen-Benchmark/moments/splendid-yogurt-28/\"\n",
    "\n",
    "# test\n",
    "epis = {\n",
    "    \"C6\": np.load(f\"{moment_path}epis_C6_pred.npy\"),\n",
    "    \"D3\": np.load(f\"{moment_path}epis_EndoCV_DATA3.npy\"),\n",
    "    \"D4\": np.load(f\"{moment_path}epis_EndoCV_DATA4.npy\"),\n",
    "}\n",
    "\n",
    "# loop through and display: original image (without transform), target mask, pred mask, and epi mask.\n",
    "\n",
    "ROWS_TO_SHOW = 20\n",
    "COLS_TO_SHOW = 4\n",
    "fig, axes = plt.subplots(nrows=ROWS_TO_SHOW, ncols=COLS_TO_SHOW, figsize=(4*COLS_TO_SHOW, 4*ROWS_TO_SHOW))\n",
    "axes = axes.flatten()\n",
    "\n",
    "column_titles = [\"Image\", \"GT Mask\", \"Predicted Mask\", \"Uncertainty\"]\n",
    "\n",
    "for i in range(COLS_TO_SHOW):\n",
    "    axes[i].set_title(column_titles[i], fontsize=15)\n",
    "\n",
    "count = 0\n",
    "for row in range(ROWS_TO_SHOW):\n",
    "    pred = np.array(Image.open(predlist[count]).convert('RGB').resize((512,512), resample=0))\n",
    "    images = [\n",
    "        Image.open(imagelist[count]).convert('RGB').resize((512,512), resample=0), \n",
    "        Image.open(gtlist[count]).convert('RGB').resize((512,512), resample=0),\n",
    "        np.where(pred, 1., 0.),\n",
    "        epis[TEST_SET][count],\n",
    "    ]\n",
    "    for col_id in range(COLS_TO_SHOW):\n",
    "        cmap = \"gray\" if col_id > 0 else None\n",
    "        axes[(row*4) + col_id].imshow(images[col_id], cmap=cmap)\n",
    "        axes[(row*4) + col_id].axis('off')\n",
    "\n",
    "    count += 1\n",
    "    \n",
    "plt.tight_layout()\n",
    "plt.savefig(f'{moment_path}grid_{TEST_SET}_{ROWS_TO_SHOW}.pdf', format='pdf')\n",
    "# plt.show()\n"
   ]
  },
  {
   "cell_type": "code",
   "execution_count": null,
   "id": "5240f775",
   "metadata": {
    "scrolled": false
   },
   "outputs": [],
   "source": []
  },
  {
   "cell_type": "markdown",
   "id": "cc30ee6a",
   "metadata": {},
   "source": [
    "On train set..."
   ]
  },
  {
   "cell_type": "code",
   "execution_count": 55,
   "id": "25187b77",
   "metadata": {
    "scrolled": false
   },
   "outputs": [],
   "source": [
    "# "
   ]
  },
  {
   "cell_type": "code",
   "execution_count": null,
   "id": "170228c0",
   "metadata": {},
   "outputs": [],
   "source": []
  },
  {
   "cell_type": "code",
   "execution_count": null,
   "id": "4316bfbd",
   "metadata": {},
   "outputs": [],
   "source": []
  }
 ],
 "metadata": {
  "kernelspec": {
   "display_name": "Python 3",
   "language": "python",
   "name": "python3"
  },
  "language_info": {
   "codemirror_mode": {
    "name": "ipython",
    "version": 3
   },
   "file_extension": ".py",
   "mimetype": "text/x-python",
   "name": "python",
   "nbconvert_exporter": "python",
   "pygments_lexer": "ipython3",
   "version": "3.6.13"
  }
 },
 "nbformat": 4,
 "nbformat_minor": 5
}
